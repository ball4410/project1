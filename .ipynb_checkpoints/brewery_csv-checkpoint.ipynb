{
 "cells": [
  {
   "cell_type": "code",
   "execution_count": 26,
   "metadata": {},
   "outputs": [],
   "source": [
    "#Dependencies\n",
    "import os\n",
    "import csv\n",
    "import pandas as pd"
   ]
  },
  {
   "cell_type": "code",
   "execution_count": 37,
   "metadata": {},
   "outputs": [
    {
     "data": {
      "text/html": [
       "<div>\n",
       "<style scoped>\n",
       "    .dataframe tbody tr th:only-of-type {\n",
       "        vertical-align: middle;\n",
       "    }\n",
       "\n",
       "    .dataframe tbody tr th {\n",
       "        vertical-align: top;\n",
       "    }\n",
       "\n",
       "    .dataframe thead th {\n",
       "        text-align: right;\n",
       "    }\n",
       "</style>\n",
       "<table border=\"1\" class=\"dataframe\">\n",
       "  <thead>\n",
       "    <tr style=\"text-align: right;\">\n",
       "      <th></th>\n",
       "      <th>Brewery Name</th>\n",
       "      <th>Type of Brewery</th>\n",
       "      <th>City</th>\n",
       "      <th>State</th>\n",
       "      <th>Country</th>\n",
       "    </tr>\n",
       "  </thead>\n",
       "  <tbody>\n",
       "    <tr>\n",
       "      <th>0</th>\n",
       "      <td>10-56 Brewing Company</td>\n",
       "      <td>micro</td>\n",
       "      <td>Knox</td>\n",
       "      <td>Indiana</td>\n",
       "      <td>United States</td>\n",
       "    </tr>\n",
       "    <tr>\n",
       "      <th>1</th>\n",
       "      <td>10 Barrel Brewing Co</td>\n",
       "      <td>large</td>\n",
       "      <td>Bend</td>\n",
       "      <td>Oregon</td>\n",
       "      <td>United States</td>\n",
       "    </tr>\n",
       "    <tr>\n",
       "      <th>2</th>\n",
       "      <td>10 Barrel Brewing Co</td>\n",
       "      <td>large</td>\n",
       "      <td>Bend</td>\n",
       "      <td>Oregon</td>\n",
       "      <td>United States</td>\n",
       "    </tr>\n",
       "    <tr>\n",
       "      <th>3</th>\n",
       "      <td>10 Barrel Brewing Co - Bend Pub</td>\n",
       "      <td>large</td>\n",
       "      <td>Bend</td>\n",
       "      <td>Oregon</td>\n",
       "      <td>United States</td>\n",
       "    </tr>\n",
       "    <tr>\n",
       "      <th>4</th>\n",
       "      <td>10 Barrel Brewing Co - Boise</td>\n",
       "      <td>large</td>\n",
       "      <td>Boise</td>\n",
       "      <td>Idaho</td>\n",
       "      <td>United States</td>\n",
       "    </tr>\n",
       "  </tbody>\n",
       "</table>\n",
       "</div>"
      ],
      "text/plain": [
       "                      Brewery Name Type of Brewery   City    State  \\\n",
       "0            10-56 Brewing Company           micro   Knox  Indiana   \n",
       "1             10 Barrel Brewing Co           large   Bend   Oregon   \n",
       "2             10 Barrel Brewing Co           large   Bend   Oregon   \n",
       "3  10 Barrel Brewing Co - Bend Pub           large   Bend   Oregon   \n",
       "4     10 Barrel Brewing Co - Boise           large  Boise    Idaho   \n",
       "\n",
       "         Country  \n",
       "0  United States  \n",
       "1  United States  \n",
       "2  United States  \n",
       "3  United States  \n",
       "4  United States  "
      ]
     },
     "execution_count": 37,
     "metadata": {},
     "output_type": "execute_result"
    }
   ],
   "source": [
    "# Store the file path associated with the file\n",
    "csvpath = os.path.join('.', 'breweries.csv')\n",
    "data_df = pd.read_csv(csvpath)\n",
    "\n",
    "#Create empty lists to store data we want\n",
    "brewery_name = []\n",
    "brewery_type = []\n",
    "brewery_city = []\n",
    "brewery_state = []\n",
    "brewery_county = []\n",
    "brewery_country = []\n",
    "\n",
    "brew_df = data_df[[\"name\", \"brewery_type\", 'city', \"state\", 'country']]\n",
    "brew_df.describe()\n",
    "\n",
    "renamed_df = brew_df.rename(columns={\"name\":\"Brewery Name\", \"brewery_type\":\"Type of Brewery\",\n",
    "                                    \"city\": \"City\", \"state\": \"State\", \"country\": \"Country\"})\n",
    "renamed_df.head()"
   ]
  },
  {
   "cell_type": "code",
   "execution_count": 28,
   "metadata": {},
   "outputs": [
    {
     "name": "stdout",
     "output_type": "stream",
     "text": [
      "<_csv.reader object at 0x7ff528163ba0>\n",
      "--------\n",
      "CSV Header: ['id', 'name', 'brewery_type', 'street', 'address_2', 'address_3', 'city', 'state', 'county_province', 'postal_code', 'website_url', 'phone', 'created_at', 'updated_at', 'country', 'longitude', 'latitude', 'tags']\n"
     ]
    }
   ],
   "source": [
    "#Read csv file\n",
    "with open(csvpath) as csvfile:\n",
    "\n",
    "    # CSV reader specifies delimiter and variable that holds contents\n",
    "    csvreader = csv.reader(csvfile, delimiter=',')\n",
    "\n",
    "    print(csvreader)\n",
    "    print('--------')\n",
    "\n",
    "    # Read the header row first (skip this step if there is now header)\n",
    "    csv_header = next(csvreader)\n",
    "    print(f\"CSV Header: {csv_header}\")\n",
    "    \n",
    "    for row in csvreader:\n",
    "        brewery_name.append(row[1])\n",
    "        brewery_type.append(row[2])\n",
    "        brewery_city.append(row[6])\n",
    "        brewery_state.append(row[7])\n",
    "        brewery_county.append(row[8])\n",
    "        brewery_country.append(row[14])\n"
   ]
  },
  {
   "cell_type": "code",
   "execution_count": 29,
   "metadata": {},
   "outputs": [
    {
     "ename": "SyntaxError",
     "evalue": "invalid syntax (<ipython-input-29-892587d70dd0>, line 2)",
     "output_type": "error",
     "traceback": [
      "\u001b[0;36m  File \u001b[0;32m\"<ipython-input-29-892587d70dd0>\"\u001b[0;36m, line \u001b[0;32m2\u001b[0m\n\u001b[0;31m    brewery_df = pd.DataFrame(\"Name\": brewery_name,\u001b[0m\n\u001b[0m                                    ^\u001b[0m\n\u001b[0;31mSyntaxError\u001b[0m\u001b[0;31m:\u001b[0m invalid syntax\n"
     ]
    }
   ],
   "source": [
    "#Store data as Data Frame\n",
    "brewery_df = pd.DataFrame(\"Name\": brewery_name, \n",
    "                          \"Type\": brewery_type, \n",
    "                          \"City\": brewery_city,\n",
    "                          \"State\": brewery_state,\n",
    "                          \"County\": brewery_county,\n",
    "                          \"Country\": brewery_country)"
   ]
  },
  {
   "cell_type": "code",
   "execution_count": null,
   "metadata": {},
   "outputs": [],
   "source": []
  },
  {
   "cell_type": "code",
   "execution_count": null,
   "metadata": {},
   "outputs": [],
   "source": []
  }
 ],
 "metadata": {
  "kernelspec": {
   "display_name": "Python 3",
   "language": "python",
   "name": "python3"
  },
  "language_info": {
   "codemirror_mode": {
    "name": "ipython",
    "version": 3
   },
   "file_extension": ".py",
   "mimetype": "text/x-python",
   "name": "python",
   "nbconvert_exporter": "python",
   "pygments_lexer": "ipython3",
   "version": "3.8.5"
  }
 },
 "nbformat": 4,
 "nbformat_minor": 4
}
